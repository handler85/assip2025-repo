{
 "cells": [
  {
   "cell_type": "code",
   "execution_count": 1,
   "id": "0daffd56",
   "metadata": {},
   "outputs": [
    {
     "data": {
      "application/vnd.jupyter.widget-view+json": {
       "model_id": "3634dac3101f4ac18c861b49d263ee7c",
       "version_major": 2,
       "version_minor": 0
      },
      "text/plain": [
       "VBox(children=(HTML(value='<center> <img\\nsrc=https://huggingface.co/front/assets/huggingface_logo-noborder.sv…"
      ]
     },
     "metadata": {},
     "output_type": "display_data"
    }
   ],
   "source": [
    "from huggingface_hub import login\n",
    "login()"
   ]
  },
  {
   "cell_type": "code",
   "execution_count": 21,
   "id": "b9e8075d",
   "metadata": {},
   "outputs": [],
   "source": [
    "from datasets import load_dataset\n",
    "import json\n",
    "from transformers import TextStreamer\n",
    "from transformers import AutoModelForCausalLM, AutoTokenizer, BitsAndBytesConfig\n",
    "import torch\n",
    "import os\n"
   ]
  },
  {
   "cell_type": "code",
   "execution_count": 30,
   "id": "4b8add91",
   "metadata": {},
   "outputs": [
    {
     "data": {
      "application/vnd.jupyter.widget-view+json": {
       "model_id": "97ee7fad60cd46e593dbf5f7e2d12f3a",
       "version_major": 2,
       "version_minor": 0
      },
      "text/plain": [
       "Saving the dataset (0/1 shards):   0%|          | 0/244 [00:00<?, ? examples/s]"
      ]
     },
     "metadata": {},
     "output_type": "display_data"
    }
   ],
   "source": [
    "ds = load_dataset(\"cat-searcher/minif2f-lean4\", split=\"test\")\n",
    "save_path = os.path.expanduser(\"~/assip2025/data/minif2f_saved\")\n",
    "ds.save_to_disk(save_path)"
   ]
  },
  {
   "cell_type": "code",
   "execution_count": 31,
   "id": "686948dc",
   "metadata": {},
   "outputs": [],
   "source": [
    "save_path = os.path.expanduser(\"~/assip2025/data/minif2f_saved\")\n",
    "from datasets import load_from_disk\n",
    "ds = load_from_disk(save_path)"
   ]
  },
  {
   "cell_type": "code",
   "execution_count": 23,
   "id": "5eac81b6",
   "metadata": {},
   "outputs": [
    {
     "data": {
      "application/vnd.jupyter.widget-view+json": {
       "model_id": "90722f173339479492f92b6efd7d078d",
       "version_major": 2,
       "version_minor": 0
      },
      "text/plain": [
       "Loading checkpoint shards:   0%|          | 0/4 [00:00<?, ?it/s]"
      ]
     },
     "metadata": {},
     "output_type": "display_data"
    },
    {
     "name": "stderr",
     "output_type": "stream",
     "text": [
      "Some parameters are on the meta device because they were offloaded to the cpu and disk.\n"
     ]
    }
   ],
   "source": [
    "MODEL_ID = \"RickyDeSkywalker/TheoremLlama\"\n",
    "tok  = AutoTokenizer.from_pretrained(MODEL_ID)\n",
    "\n",
    "model = AutoModelForCausalLM.from_pretrained(\n",
    "    MODEL_ID,\n",
    "    device_map=\"auto\"          \n",
    ")\n"
   ]
  },
  {
   "cell_type": "code",
   "execution_count": 26,
   "id": "0ddbf5a3",
   "metadata": {},
   "outputs": [
    {
     "name": "stderr",
     "output_type": "stream",
     "text": [
      "/root/assip2025/.venv/lib/python3.10/site-packages/transformers/modeling_utils.py:3737: UserWarning: Attempting to save a model with offloaded modules. Ensure that unallocated cpu memory exceeds the `shard_size` (5GB default)\n",
      "  warnings.warn(\n"
     ]
    },
    {
     "data": {
      "application/vnd.jupyter.widget-view+json": {
       "model_id": "5a8c95f2d8794113bde64e3cc7d18d6e",
       "version_major": 2,
       "version_minor": 0
      },
      "text/plain": [
       "Saving checkpoint shards:   0%|          | 0/7 [00:00<?, ?it/s]"
      ]
     },
     "metadata": {},
     "output_type": "display_data"
    }
   ],
   "source": [
    "model_save_path = os.path.expanduser(\"~/assip2025/saved_models/saved_theorem_llama\")\n",
    "tok.save_pretrained(model_save_path)\n",
    "model.save_pretrained(model_save_path)"
   ]
  },
  {
   "cell_type": "code",
   "execution_count": 27,
   "id": "b480189b",
   "metadata": {},
   "outputs": [
    {
     "data": {
      "application/vnd.jupyter.widget-view+json": {
       "model_id": "3505e625f2fe42b4a70461622c2811e7",
       "version_major": 2,
       "version_minor": 0
      },
      "text/plain": [
       "Loading checkpoint shards:   0%|          | 0/7 [00:00<?, ?it/s]"
      ]
     },
     "metadata": {},
     "output_type": "display_data"
    }
   ],
   "source": [
    "model_save_path = os.path.expanduser(\"~/assip2025/saved_models/saved_theorem_llama\")\n",
    "\n",
    "tok = AutoTokenizer.from_pretrained(model_save_path)\n",
    "model = AutoModelForCausalLM.from_pretrained(model_save_path)"
   ]
  },
  {
   "cell_type": "code",
   "execution_count": 28,
   "id": "fe8e2076",
   "metadata": {},
   "outputs": [],
   "source": [
    "streamer = TextStreamer(tok)"
   ]
  },
  {
   "cell_type": "code",
   "execution_count": 36,
   "id": "dabdf731",
   "metadata": {},
   "outputs": [],
   "source": [
    "PROOF_DIR    = os.path.expanduser(\"~/assip2025/llama_proofs/LlamaProofs\")\n",
    "SAVE_DIR = os.path.expanduser(\"~/assip2025/llama_proofs/LlamaProofs\")"
   ]
  },
  {
   "cell_type": "code",
   "execution_count": null,
   "id": "67d270e7",
   "metadata": {},
   "outputs": [],
   "source": [
    "for ex in ds:\n",
    "    pid = ex[\"id\"]                  \n",
    "    lean_out = f\"{PROOF_DIR}/{pid}.lean\"\n",
    "    if os.path.exists(lean_out):\n",
    "        print(f\"✔︎ {pid} already done, skipping.\")\n",
    "        continue\n",
    "\n",
    "\n",
    "    header   = ex.get(\"header\", \"\")\n",
    "    theorem  = ex[\"formal_statement\"]\n",
    "    nl_desc  = ex[\"informal_stmt\"]\n",
    "\n",
    "    prompt = (\n",
    "        f\"-- Informal description\\n{nl_desc}\\n\\n\"\n",
    "        f\"-- Formal theorem skeleton\\n{theorem}\\n\\n\"\n",
    "        f\"-- Fill in Lean proof after `:= by` or `:=\\nby`:\\n\"\n",
    "    )\n",
    "\n",
    "    input_ids = tok(prompt, return_tensors=\"pt\").to(model.device)\n",
    "\n",
    "    gen_ids = model.generate(\n",
    "        **input_ids,\n",
    "        max_new_tokens=512,\n",
    "        do_sample=False,      # greedy; raise for exploration\n",
    "        eos_token_id=tok.eos_token_id,\n",
    "        pad_token_id=tok.eos_token_id,\n",
    "        streamer=streamer,\n",
    "    )\n",
    "    proof = tok.decode(gen_ids[0][input_ids[\"input_ids\"].shape[1]:],\n",
    "                       skip_special_tokens=True)\n",
    "\n",
    "    # ===== 6. Save .lean file =====\n",
    "    with open(lean_out, \"w\") as f:\n",
    "        f.write(f\"{header}\\n\\n{theorem[:-6]}:= by\\n{proof}\\n\")\n",
    "    print(f\"💾  Saved proof for {pid} → {lean_out}\")"
   ]
  },
  {
   "cell_type": "code",
   "execution_count": 35,
   "id": "1e88e72a",
   "metadata": {},
   "outputs": [],
   "source": [
    "tok.pad_token = tok.eos_token\n",
    "model.config.pad_token_id = model.config.eos_token_id"
   ]
  },
  {
   "cell_type": "code",
   "execution_count": 37,
   "id": "25eb0678",
   "metadata": {},
   "outputs": [
    {
     "name": "stdout",
     "output_type": "stream",
     "text": [
      "\n",
      "Starting ZERO-SHOT proof generation for 244 problems...\n",
      "Warning: Skipping problem at index 0 due to missing name or theorem.\n",
      "Warning: Skipping problem at index 1 due to missing name or theorem.\n",
      "Warning: Skipping problem at index 2 due to missing name or theorem.\n",
      "Warning: Skipping problem at index 3 due to missing name or theorem.\n",
      "Warning: Skipping problem at index 4 due to missing name or theorem.\n",
      "Warning: Skipping problem at index 5 due to missing name or theorem.\n",
      "Warning: Skipping problem at index 6 due to missing name or theorem.\n",
      "Warning: Skipping problem at index 7 due to missing name or theorem.\n",
      "Warning: Skipping problem at index 8 due to missing name or theorem.\n",
      "Warning: Skipping problem at index 9 due to missing name or theorem.\n",
      "Warning: Skipping problem at index 10 due to missing name or theorem.\n",
      "Warning: Skipping problem at index 11 due to missing name or theorem.\n",
      "Warning: Skipping problem at index 12 due to missing name or theorem.\n",
      "Warning: Skipping problem at index 13 due to missing name or theorem.\n",
      "Warning: Skipping problem at index 14 due to missing name or theorem.\n",
      "Warning: Skipping problem at index 15 due to missing name or theorem.\n",
      "Warning: Skipping problem at index 16 due to missing name or theorem.\n",
      "Warning: Skipping problem at index 17 due to missing name or theorem.\n",
      "Warning: Skipping problem at index 18 due to missing name or theorem.\n",
      "Warning: Skipping problem at index 19 due to missing name or theorem.\n",
      "Warning: Skipping problem at index 20 due to missing name or theorem.\n",
      "Warning: Skipping problem at index 21 due to missing name or theorem.\n",
      "Warning: Skipping problem at index 22 due to missing name or theorem.\n",
      "Warning: Skipping problem at index 23 due to missing name or theorem.\n",
      "Warning: Skipping problem at index 24 due to missing name or theorem.\n",
      "Warning: Skipping problem at index 25 due to missing name or theorem.\n",
      "Warning: Skipping problem at index 26 due to missing name or theorem.\n",
      "Warning: Skipping problem at index 27 due to missing name or theorem.\n",
      "Warning: Skipping problem at index 28 due to missing name or theorem.\n",
      "Warning: Skipping problem at index 29 due to missing name or theorem.\n",
      "Warning: Skipping problem at index 30 due to missing name or theorem.\n",
      "Warning: Skipping problem at index 31 due to missing name or theorem.\n",
      "Warning: Skipping problem at index 32 due to missing name or theorem.\n",
      "Warning: Skipping problem at index 33 due to missing name or theorem.\n",
      "Warning: Skipping problem at index 34 due to missing name or theorem.\n",
      "Warning: Skipping problem at index 35 due to missing name or theorem.\n",
      "Warning: Skipping problem at index 36 due to missing name or theorem.\n",
      "Warning: Skipping problem at index 37 due to missing name or theorem.\n",
      "Warning: Skipping problem at index 38 due to missing name or theorem.\n",
      "Warning: Skipping problem at index 39 due to missing name or theorem.\n",
      "Warning: Skipping problem at index 40 due to missing name or theorem.\n",
      "Warning: Skipping problem at index 41 due to missing name or theorem.\n",
      "Warning: Skipping problem at index 42 due to missing name or theorem.\n",
      "Warning: Skipping problem at index 43 due to missing name or theorem.\n",
      "Warning: Skipping problem at index 44 due to missing name or theorem.\n",
      "Warning: Skipping problem at index 45 due to missing name or theorem.\n",
      "Warning: Skipping problem at index 46 due to missing name or theorem.\n",
      "Warning: Skipping problem at index 47 due to missing name or theorem.\n",
      "Warning: Skipping problem at index 48 due to missing name or theorem.\n",
      "Warning: Skipping problem at index 49 due to missing name or theorem.\n",
      "Warning: Skipping problem at index 50 due to missing name or theorem.\n",
      "Warning: Skipping problem at index 51 due to missing name or theorem.\n",
      "Warning: Skipping problem at index 52 due to missing name or theorem.\n",
      "Warning: Skipping problem at index 53 due to missing name or theorem.\n",
      "Warning: Skipping problem at index 54 due to missing name or theorem.\n",
      "Warning: Skipping problem at index 55 due to missing name or theorem.\n",
      "Warning: Skipping problem at index 56 due to missing name or theorem.\n",
      "Warning: Skipping problem at index 57 due to missing name or theorem.\n",
      "Warning: Skipping problem at index 58 due to missing name or theorem.\n",
      "Warning: Skipping problem at index 59 due to missing name or theorem.\n",
      "Warning: Skipping problem at index 60 due to missing name or theorem.\n",
      "Warning: Skipping problem at index 61 due to missing name or theorem.\n",
      "Warning: Skipping problem at index 62 due to missing name or theorem.\n",
      "Warning: Skipping problem at index 63 due to missing name or theorem.\n",
      "Warning: Skipping problem at index 64 due to missing name or theorem.\n",
      "Warning: Skipping problem at index 65 due to missing name or theorem.\n",
      "Warning: Skipping problem at index 66 due to missing name or theorem.\n",
      "Warning: Skipping problem at index 67 due to missing name or theorem.\n",
      "Warning: Skipping problem at index 68 due to missing name or theorem.\n",
      "Warning: Skipping problem at index 69 due to missing name or theorem.\n",
      "Warning: Skipping problem at index 70 due to missing name or theorem.\n",
      "Warning: Skipping problem at index 71 due to missing name or theorem.\n",
      "Warning: Skipping problem at index 72 due to missing name or theorem.\n",
      "Warning: Skipping problem at index 73 due to missing name or theorem.\n",
      "Warning: Skipping problem at index 74 due to missing name or theorem.\n",
      "Warning: Skipping problem at index 75 due to missing name or theorem.\n",
      "Warning: Skipping problem at index 76 due to missing name or theorem.\n",
      "Warning: Skipping problem at index 77 due to missing name or theorem.\n",
      "Warning: Skipping problem at index 78 due to missing name or theorem.\n",
      "Warning: Skipping problem at index 79 due to missing name or theorem.\n",
      "Warning: Skipping problem at index 80 due to missing name or theorem.\n",
      "Warning: Skipping problem at index 81 due to missing name or theorem.\n",
      "Warning: Skipping problem at index 82 due to missing name or theorem.\n",
      "Warning: Skipping problem at index 83 due to missing name or theorem.\n",
      "Warning: Skipping problem at index 84 due to missing name or theorem.\n",
      "Warning: Skipping problem at index 85 due to missing name or theorem.\n",
      "Warning: Skipping problem at index 86 due to missing name or theorem.\n",
      "Warning: Skipping problem at index 87 due to missing name or theorem.\n",
      "Warning: Skipping problem at index 88 due to missing name or theorem.\n",
      "Warning: Skipping problem at index 89 due to missing name or theorem.\n",
      "Warning: Skipping problem at index 90 due to missing name or theorem.\n",
      "Warning: Skipping problem at index 91 due to missing name or theorem.\n",
      "Warning: Skipping problem at index 92 due to missing name or theorem.\n",
      "Warning: Skipping problem at index 93 due to missing name or theorem.\n",
      "Warning: Skipping problem at index 94 due to missing name or theorem.\n",
      "Warning: Skipping problem at index 95 due to missing name or theorem.\n",
      "Warning: Skipping problem at index 96 due to missing name or theorem.\n",
      "Warning: Skipping problem at index 97 due to missing name or theorem.\n",
      "Warning: Skipping problem at index 98 due to missing name or theorem.\n",
      "Warning: Skipping problem at index 99 due to missing name or theorem.\n",
      "Warning: Skipping problem at index 100 due to missing name or theorem.\n",
      "Warning: Skipping problem at index 101 due to missing name or theorem.\n",
      "Warning: Skipping problem at index 102 due to missing name or theorem.\n",
      "Warning: Skipping problem at index 103 due to missing name or theorem.\n",
      "Warning: Skipping problem at index 104 due to missing name or theorem.\n",
      "Warning: Skipping problem at index 105 due to missing name or theorem.\n",
      "Warning: Skipping problem at index 106 due to missing name or theorem.\n",
      "Warning: Skipping problem at index 107 due to missing name or theorem.\n",
      "Warning: Skipping problem at index 108 due to missing name or theorem.\n",
      "Warning: Skipping problem at index 109 due to missing name or theorem.\n",
      "Warning: Skipping problem at index 110 due to missing name or theorem.\n",
      "Warning: Skipping problem at index 111 due to missing name or theorem.\n",
      "Warning: Skipping problem at index 112 due to missing name or theorem.\n",
      "Warning: Skipping problem at index 113 due to missing name or theorem.\n",
      "Warning: Skipping problem at index 114 due to missing name or theorem.\n",
      "Warning: Skipping problem at index 115 due to missing name or theorem.\n",
      "Warning: Skipping problem at index 116 due to missing name or theorem.\n",
      "Warning: Skipping problem at index 117 due to missing name or theorem.\n",
      "Warning: Skipping problem at index 118 due to missing name or theorem.\n",
      "Warning: Skipping problem at index 119 due to missing name or theorem.\n",
      "Warning: Skipping problem at index 120 due to missing name or theorem.\n",
      "Warning: Skipping problem at index 121 due to missing name or theorem.\n",
      "Warning: Skipping problem at index 122 due to missing name or theorem.\n",
      "Warning: Skipping problem at index 123 due to missing name or theorem.\n",
      "Warning: Skipping problem at index 124 due to missing name or theorem.\n",
      "Warning: Skipping problem at index 125 due to missing name or theorem.\n",
      "Warning: Skipping problem at index 126 due to missing name or theorem.\n",
      "Warning: Skipping problem at index 127 due to missing name or theorem.\n",
      "Warning: Skipping problem at index 128 due to missing name or theorem.\n",
      "Warning: Skipping problem at index 129 due to missing name or theorem.\n",
      "Warning: Skipping problem at index 130 due to missing name or theorem.\n",
      "Warning: Skipping problem at index 131 due to missing name or theorem.\n",
      "Warning: Skipping problem at index 132 due to missing name or theorem.\n",
      "Warning: Skipping problem at index 133 due to missing name or theorem.\n",
      "Warning: Skipping problem at index 134 due to missing name or theorem.\n",
      "Warning: Skipping problem at index 135 due to missing name or theorem.\n",
      "Warning: Skipping problem at index 136 due to missing name or theorem.\n",
      "Warning: Skipping problem at index 137 due to missing name or theorem.\n",
      "Warning: Skipping problem at index 138 due to missing name or theorem.\n",
      "Warning: Skipping problem at index 139 due to missing name or theorem.\n",
      "Warning: Skipping problem at index 140 due to missing name or theorem.\n",
      "Warning: Skipping problem at index 141 due to missing name or theorem.\n",
      "Warning: Skipping problem at index 142 due to missing name or theorem.\n",
      "Warning: Skipping problem at index 143 due to missing name or theorem.\n",
      "Warning: Skipping problem at index 144 due to missing name or theorem.\n",
      "Warning: Skipping problem at index 145 due to missing name or theorem.\n",
      "Warning: Skipping problem at index 146 due to missing name or theorem.\n",
      "Warning: Skipping problem at index 147 due to missing name or theorem.\n",
      "Warning: Skipping problem at index 148 due to missing name or theorem.\n",
      "Warning: Skipping problem at index 149 due to missing name or theorem.\n",
      "Warning: Skipping problem at index 150 due to missing name or theorem.\n",
      "Warning: Skipping problem at index 151 due to missing name or theorem.\n",
      "Warning: Skipping problem at index 152 due to missing name or theorem.\n",
      "Warning: Skipping problem at index 153 due to missing name or theorem.\n",
      "Warning: Skipping problem at index 154 due to missing name or theorem.\n",
      "Warning: Skipping problem at index 155 due to missing name or theorem.\n",
      "Warning: Skipping problem at index 156 due to missing name or theorem.\n",
      "Warning: Skipping problem at index 157 due to missing name or theorem.\n",
      "Warning: Skipping problem at index 158 due to missing name or theorem.\n",
      "Warning: Skipping problem at index 159 due to missing name or theorem.\n",
      "Warning: Skipping problem at index 160 due to missing name or theorem.\n",
      "Warning: Skipping problem at index 161 due to missing name or theorem.\n",
      "Warning: Skipping problem at index 162 due to missing name or theorem.\n",
      "Warning: Skipping problem at index 163 due to missing name or theorem.\n",
      "Warning: Skipping problem at index 164 due to missing name or theorem.\n",
      "Warning: Skipping problem at index 165 due to missing name or theorem.\n",
      "Warning: Skipping problem at index 166 due to missing name or theorem.\n",
      "Warning: Skipping problem at index 167 due to missing name or theorem.\n",
      "Warning: Skipping problem at index 168 due to missing name or theorem.\n",
      "Warning: Skipping problem at index 169 due to missing name or theorem.\n",
      "Warning: Skipping problem at index 170 due to missing name or theorem.\n",
      "Warning: Skipping problem at index 171 due to missing name or theorem.\n",
      "Warning: Skipping problem at index 172 due to missing name or theorem.\n",
      "Warning: Skipping problem at index 173 due to missing name or theorem.\n",
      "Warning: Skipping problem at index 174 due to missing name or theorem.\n",
      "Warning: Skipping problem at index 175 due to missing name or theorem.\n",
      "Warning: Skipping problem at index 176 due to missing name or theorem.\n",
      "Warning: Skipping problem at index 177 due to missing name or theorem.\n",
      "Warning: Skipping problem at index 178 due to missing name or theorem.\n",
      "Warning: Skipping problem at index 179 due to missing name or theorem.\n",
      "Warning: Skipping problem at index 180 due to missing name or theorem.\n",
      "Warning: Skipping problem at index 181 due to missing name or theorem.\n",
      "Warning: Skipping problem at index 182 due to missing name or theorem.\n",
      "Warning: Skipping problem at index 183 due to missing name or theorem.\n",
      "Warning: Skipping problem at index 184 due to missing name or theorem.\n",
      "Warning: Skipping problem at index 185 due to missing name or theorem.\n",
      "Warning: Skipping problem at index 186 due to missing name or theorem.\n",
      "Warning: Skipping problem at index 187 due to missing name or theorem.\n",
      "Warning: Skipping problem at index 188 due to missing name or theorem.\n",
      "Warning: Skipping problem at index 189 due to missing name or theorem.\n",
      "Warning: Skipping problem at index 190 due to missing name or theorem.\n",
      "Warning: Skipping problem at index 191 due to missing name or theorem.\n",
      "Warning: Skipping problem at index 192 due to missing name or theorem.\n",
      "Warning: Skipping problem at index 193 due to missing name or theorem.\n",
      "Warning: Skipping problem at index 194 due to missing name or theorem.\n",
      "Warning: Skipping problem at index 195 due to missing name or theorem.\n",
      "Warning: Skipping problem at index 196 due to missing name or theorem.\n",
      "Warning: Skipping problem at index 197 due to missing name or theorem.\n",
      "Warning: Skipping problem at index 198 due to missing name or theorem.\n",
      "Warning: Skipping problem at index 199 due to missing name or theorem.\n",
      "Warning: Skipping problem at index 200 due to missing name or theorem.\n",
      "Warning: Skipping problem at index 201 due to missing name or theorem.\n",
      "Warning: Skipping problem at index 202 due to missing name or theorem.\n",
      "Warning: Skipping problem at index 203 due to missing name or theorem.\n",
      "Warning: Skipping problem at index 204 due to missing name or theorem.\n",
      "Warning: Skipping problem at index 205 due to missing name or theorem.\n",
      "Warning: Skipping problem at index 206 due to missing name or theorem.\n",
      "Warning: Skipping problem at index 207 due to missing name or theorem.\n",
      "Warning: Skipping problem at index 208 due to missing name or theorem.\n",
      "Warning: Skipping problem at index 209 due to missing name or theorem.\n",
      "Warning: Skipping problem at index 210 due to missing name or theorem.\n",
      "Warning: Skipping problem at index 211 due to missing name or theorem.\n",
      "Warning: Skipping problem at index 212 due to missing name or theorem.\n",
      "Warning: Skipping problem at index 213 due to missing name or theorem.\n",
      "Warning: Skipping problem at index 214 due to missing name or theorem.\n",
      "Warning: Skipping problem at index 215 due to missing name or theorem.\n",
      "Warning: Skipping problem at index 216 due to missing name or theorem.\n",
      "Warning: Skipping problem at index 217 due to missing name or theorem.\n",
      "Warning: Skipping problem at index 218 due to missing name or theorem.\n",
      "Warning: Skipping problem at index 219 due to missing name or theorem.\n",
      "Warning: Skipping problem at index 220 due to missing name or theorem.\n",
      "Warning: Skipping problem at index 221 due to missing name or theorem.\n",
      "Warning: Skipping problem at index 222 due to missing name or theorem.\n",
      "Warning: Skipping problem at index 223 due to missing name or theorem.\n",
      "Warning: Skipping problem at index 224 due to missing name or theorem.\n",
      "Warning: Skipping problem at index 225 due to missing name or theorem.\n",
      "Warning: Skipping problem at index 226 due to missing name or theorem.\n",
      "Warning: Skipping problem at index 227 due to missing name or theorem.\n",
      "Warning: Skipping problem at index 228 due to missing name or theorem.\n",
      "Warning: Skipping problem at index 229 due to missing name or theorem.\n",
      "Warning: Skipping problem at index 230 due to missing name or theorem.\n",
      "Warning: Skipping problem at index 231 due to missing name or theorem.\n",
      "Warning: Skipping problem at index 232 due to missing name or theorem.\n",
      "Warning: Skipping problem at index 233 due to missing name or theorem.\n",
      "Warning: Skipping problem at index 234 due to missing name or theorem.\n",
      "Warning: Skipping problem at index 235 due to missing name or theorem.\n",
      "Warning: Skipping problem at index 236 due to missing name or theorem.\n",
      "Warning: Skipping problem at index 237 due to missing name or theorem.\n",
      "Warning: Skipping problem at index 238 due to missing name or theorem.\n",
      "Warning: Skipping problem at index 239 due to missing name or theorem.\n",
      "Warning: Skipping problem at index 240 due to missing name or theorem.\n",
      "Warning: Skipping problem at index 241 due to missing name or theorem.\n",
      "Warning: Skipping problem at index 242 due to missing name or theorem.\n",
      "Warning: Skipping problem at index 243 due to missing name or theorem.\n",
      "\n",
      "--- Generation Complete ---\n",
      "All 244 proof attempts have been generated and saved in '/root/assip2025/llama_proofs/LlamaProofs'.\n"
     ]
    }
   ],
   "source": [
    "\n",
    "if __name__ == \"__main__\":\n",
    "    total_problems = len(ds)\n",
    "    print(f\"\\nStarting ZERO-SHOT proof generation for {total_problems} problems...\")\n",
    "\n",
    "    for i, problem in enumerate(ds):\n",
    "        problem_name = problem.get(\"name\")\n",
    "        prompt = problem.get(\"theorem\")\n",
    "\n",
    "        if not problem_name or not prompt:\n",
    "            print(f\"Warning: Skipping problem at index {i} due to missing name or theorem.\")\n",
    "            continue\n",
    "\n",
    "        print(f\"\\n[{i+1}/{total_problems}] Processing Problem: {problem_name}\")\n",
    "\n",
    "       \n",
    "        inputs = tok(prompt, return_tensors=\"pt\").to(model.device)\n",
    "\n",
    "        #    max_new_tokens controls how long the proof can be. Adjust as needed.\n",
    "        #    temperature=0 means the model will be deterministic (less creative).\n",
    "        #    For classification of common errors, a low temperature is good.\n",
    "        print(\"  Generating proof...\")\n",
    "        outputs = model.generate(\n",
    "            **inputs,\n",
    "            max_new_tokens=512,\n",
    "            temperature=0.1,\n",
    "            do_sample=True, # Must be True for temperature to have an effect\n",
    "            top_k=50,\n",
    "            top_p=0.95\n",
    "        )\n",
    "\n",
    "        # 3. Decode the generated tokens back to text\n",
    "        #    We skip special tokens (like padding) and decode only the newly generated part.\n",
    "        completion = tok.decode(outputs[0][inputs.input_ids.shape[1]:], skip_special_tokens=True)\n",
    "\n",
    "        # Combine the original prompt with the model's completion\n",
    "        full_proof_attempt = prompt + completion\n",
    "        # --- Save the proof to a .lean file ---\n",
    "        output_filename = os.path.join(SAVE_DIR, f\"{problem_name}.lean\")\n",
    "        try:\n",
    "            with open(output_filename, 'w', encoding='utf-8') as f:\n",
    "                f.write(full_proof_attempt)\n",
    "            print(f\"  Proof attempt saved to: {output_filename}\")\n",
    "        except IOError as e:\n",
    "            print(f\"  Error saving file {output_filename}: {e}\")\n",
    "\n",
    "    print(f\"\\n--- Generation Complete ---\")\n",
    "    print(f\"All {total_problems} proof attempts have been generated and saved in '{SAVE_DIR}'.\")"
   ]
  },
  {
   "cell_type": "code",
   "execution_count": null,
   "id": "140932f6",
   "metadata": {},
   "outputs": [],
   "source": []
  }
 ],
 "metadata": {
  "kernelspec": {
   "display_name": ".venv",
   "language": "python",
   "name": "python3"
  },
  "language_info": {
   "codemirror_mode": {
    "name": "ipython",
    "version": 3
   },
   "file_extension": ".py",
   "mimetype": "text/x-python",
   "name": "python",
   "nbconvert_exporter": "python",
   "pygments_lexer": "ipython3",
   "version": "3.10.12"
  }
 },
 "nbformat": 4,
 "nbformat_minor": 5
}
