{
 "cells": [
  {
   "cell_type": "code",
   "execution_count": 3,
   "id": "0daffd56",
   "metadata": {},
   "outputs": [
    {
     "data": {
      "application/vnd.jupyter.widget-view+json": {
       "model_id": "7a58d36e5c6549efa8b1743db70157ee",
       "version_major": 2,
       "version_minor": 0
      },
      "text/plain": [
       "VBox(children=(HTML(value='<center> <img\\nsrc=https://huggingface.co/front/assets/huggingface_logo-noborder.sv…"
      ]
     },
     "metadata": {},
     "output_type": "display_data"
    }
   ],
   "source": [
    "from huggingface_hub import login\n",
    "login()"
   ]
  },
  {
   "cell_type": "code",
   "execution_count": null,
   "id": "b9e8075d",
   "metadata": {},
   "outputs": [],
   "source": [
    "from datasets import load_dataset\n",
    "import json\n",
    "from transformers import TextStreamer\n",
    "from transformers import AutoModelForCausalLM, AutoTokenizer, BitsAndBytesConfig\n",
    "import torch\n"
   ]
  },
  {
   "cell_type": "code",
   "execution_count": 8,
   "id": "4b8add91",
   "metadata": {},
   "outputs": [
    {
     "data": {
      "application/vnd.jupyter.widget-view+json": {
       "model_id": "ca76a285396d4a9eb967514a5c3e63c9",
       "version_major": 2,
       "version_minor": 0
      },
      "text/plain": [
       "Saving the dataset (0/1 shards):   0%|          | 0/244 [00:00<?, ? examples/s]"
      ]
     },
     "metadata": {},
     "output_type": "display_data"
    }
   ],
   "source": [
    "ds = load_dataset(\"cat-searcher/minif2f-lean4\", split=\"test\")\n",
    "save_path = \"./minif2f_saved\" \n",
    "ds.save_to_disk(save_path)"
   ]
  },
  {
   "cell_type": "code",
   "execution_count": 13,
   "id": "686948dc",
   "metadata": {},
   "outputs": [],
   "source": [
    "from datasets import load_from_disk\n",
    "ds = load_from_disk(save_path)"
   ]
  },
  {
   "cell_type": "code",
   "execution_count": null,
   "id": "5eac81b6",
   "metadata": {},
   "outputs": [
    {
     "data": {
      "application/vnd.jupyter.widget-view+json": {
       "model_id": "d251594b765846a0b6b19e518585d1d7",
       "version_major": 2,
       "version_minor": 0
      },
      "text/plain": [
       "model.safetensors.index.json:   0%|          | 0.00/23.9k [00:00<?, ?B/s]"
      ]
     },
     "metadata": {},
     "output_type": "display_data"
    },
    {
     "data": {
      "application/vnd.jupyter.widget-view+json": {
       "model_id": "f0b999b8329f4f6580197f7ba3e25b1f",
       "version_major": 2,
       "version_minor": 0
      },
      "text/plain": [
       "Fetching 4 files:   0%|          | 0/4 [00:00<?, ?it/s]"
      ]
     },
     "metadata": {},
     "output_type": "display_data"
    },
    {
     "data": {
      "application/vnd.jupyter.widget-view+json": {
       "model_id": "c1af16779fcd47c0a75db0960a881915",
       "version_major": 2,
       "version_minor": 0
      },
      "text/plain": [
       "model-00004-of-00004.safetensors:   0%|          | 0.00/1.17G [00:00<?, ?B/s]"
      ]
     },
     "metadata": {},
     "output_type": "display_data"
    },
    {
     "data": {
      "application/vnd.jupyter.widget-view+json": {
       "model_id": "52a90586fa1a48638c6ac4ea37f0df1e",
       "version_major": 2,
       "version_minor": 0
      },
      "text/plain": [
       "model-00003-of-00004.safetensors:   0%|          | 0.00/4.92G [00:00<?, ?B/s]"
      ]
     },
     "metadata": {},
     "output_type": "display_data"
    },
    {
     "data": {
      "application/vnd.jupyter.widget-view+json": {
       "model_id": "4c060d8655344104ae0c2ba8bde08f82",
       "version_major": 2,
       "version_minor": 0
      },
      "text/plain": [
       "model-00001-of-00004.safetensors:   0%|          | 0.00/4.98G [00:00<?, ?B/s]"
      ]
     },
     "metadata": {},
     "output_type": "display_data"
    },
    {
     "data": {
      "application/vnd.jupyter.widget-view+json": {
       "model_id": "78b30a0d24dc4265ac000f8ba5456fd2",
       "version_major": 2,
       "version_minor": 0
      },
      "text/plain": [
       "model-00002-of-00004.safetensors:   0%|          | 0.00/5.00G [00:00<?, ?B/s]"
      ]
     },
     "metadata": {},
     "output_type": "display_data"
    },
    {
     "data": {
      "application/vnd.jupyter.widget-view+json": {
       "model_id": "d8570271582244ec8fb07bcee5814208",
       "version_major": 2,
       "version_minor": 0
      },
      "text/plain": [
       "Loading checkpoint shards:   0%|          | 0/4 [00:00<?, ?it/s]"
      ]
     },
     "metadata": {},
     "output_type": "display_data"
    },
    {
     "data": {
      "application/vnd.jupyter.widget-view+json": {
       "model_id": "ad4a174a137943d5a426ff33e19fbefe",
       "version_major": 2,
       "version_minor": 0
      },
      "text/plain": [
       "generation_config.json:   0%|          | 0.00/194 [00:00<?, ?B/s]"
      ]
     },
     "metadata": {},
     "output_type": "display_data"
    },
    {
     "name": "stderr",
     "output_type": "stream",
     "text": [
      "Some parameters are on the meta device because they were offloaded to the cpu.\n"
     ]
    }
   ],
   "source": [
    "model_id = \"RickyDeSkywalker/TheoremLlama\"\n",
    "tok  = AutoTokenizer.from_pretrained(model_id)\n",
    "\n",
    "model = AutoModelForCausalLM.from_pretrained(model_id)\n"
   ]
  },
  {
   "cell_type": "code",
   "execution_count": 10,
   "id": "0ddbf5a3",
   "metadata": {},
   "outputs": [
    {
     "name": "stderr",
     "output_type": "stream",
     "text": [
      "/root/assip2025/.venv/lib/python3.10/site-packages/transformers/modeling_utils.py:3737: UserWarning: Attempting to save a model with offloaded modules. Ensure that unallocated cpu memory exceeds the `shard_size` (5GB default)\n",
      "  warnings.warn(\n"
     ]
    },
    {
     "data": {
      "application/vnd.jupyter.widget-view+json": {
       "model_id": "bf84c82778ee46ab9df96615068059fb",
       "version_major": 2,
       "version_minor": 0
      },
      "text/plain": [
       "Saving checkpoint shards:   0%|          | 0/7 [00:00<?, ?it/s]"
      ]
     },
     "metadata": {},
     "output_type": "display_data"
    }
   ],
   "source": [
    "model_save_path = \"./saved_theorem_llama\"\n",
    "tok.save_pretrained(model_save_path)\n",
    "model.save_pretrained(model_save_path)"
   ]
  },
  {
   "cell_type": "code",
   "execution_count": 11,
   "id": "b480189b",
   "metadata": {},
   "outputs": [
    {
     "data": {
      "application/vnd.jupyter.widget-view+json": {
       "model_id": "3b74c8f478a941f18e34bf7d309db752",
       "version_major": 2,
       "version_minor": 0
      },
      "text/plain": [
       "Loading checkpoint shards:   0%|          | 0/7 [00:00<?, ?it/s]"
      ]
     },
     "metadata": {},
     "output_type": "display_data"
    }
   ],
   "source": [
    "local_tok = AutoTokenizer.from_pretrained(model_save_path)\n",
    "local_theoremllama = AutoModelForCausalLM.from_pretrained(model_save_path)"
   ]
  },
  {
   "cell_type": "code",
   "execution_count": 12,
   "id": "fe8e2076",
   "metadata": {},
   "outputs": [],
   "source": [
    "streamer = TextStreamer(tok)"
   ]
  },
  {
   "cell_type": "code",
   "execution_count": 14,
   "id": "dabdf731",
   "metadata": {},
   "outputs": [],
   "source": [
    "import os\n",
    "PROOF_DIR    = \"/assip2025/llama_proofs/LlamaProofs\"\n"
   ]
  },
  {
   "cell_type": "code",
   "execution_count": null,
   "id": "67d270e7",
   "metadata": {},
   "outputs": [],
   "source": [
    "for ex in ds:\n",
    "    pid = ex[\"id\"]                  \n",
    "    lean_out = f\"{PROOF_DIR}/{pid}.lean\"\n",
    "    if os.path.exists(lean_out):\n",
    "        print(f\"✔︎ {pid} already done, skipping.\")\n",
    "        continue\n",
    "\n",
    "    header   = ex.get(\"header\", \"\")\n",
    "    theorem  = ex[\"formal_statement\"]\n",
    "    nl_desc  = ex[\"informal_stmt\"]\n",
    "\n",
    "    prompt = (\n",
    "        f\"-- Informal description\\n{nl_desc}\\n\\n\"\n",
    "        f\"-- Formal theorem skeleton\\n{theorem}\\n\\n\"\n",
    "        f\"-- Fill in Lean proof after `:= by` or `:=\\nby`:\\n\"\n",
    "    )\n",
    "\n",
    "    input_ids = tok(prompt, return_tensors=\"pt\").to(model.device)\n",
    "\n",
    "    gen_ids = model.generate(\n",
    "        **input_ids,\n",
    "        max_new_tokens=512,\n",
    "        do_sample=False,      # greedy; raise for exploration\n",
    "        eos_token_id=tok.eos_token_id,\n",
    "        pad_token_id=tok.eos_token_id,\n",
    "        streamer=streamer,\n",
    "    )\n",
    "    proof = tok.decode(gen_ids[0][input_ids[\"input_ids\"].shape[1]:],\n",
    "                       skip_special_tokens=True)\n",
    "\n",
    "    # ===== 6. Save .lean file =====\n",
    "    with open(lean_out, \"w\") as f:\n",
    "        f.write(f\"{header}\\n\\n{theorem[:-6]}:= by\\n{proof}\\n\")\n",
    "    print(f\"💾  Saved proof for {pid} → {lean_out}\")"
   ]
  }
 ],
 "metadata": {
  "kernelspec": {
   "display_name": ".venv",
   "language": "python",
   "name": "python3"
  },
  "language_info": {
   "codemirror_mode": {
    "name": "ipython",
    "version": 3
   },
   "file_extension": ".py",
   "mimetype": "text/x-python",
   "name": "python",
   "nbconvert_exporter": "python",
   "pygments_lexer": "ipython3",
   "version": "3.10.12"
  }
 },
 "nbformat": 4,
 "nbformat_minor": 5
}
